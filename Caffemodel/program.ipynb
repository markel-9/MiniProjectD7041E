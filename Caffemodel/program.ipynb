{
 "cells": [
  {
   "cell_type": "code",
   "execution_count": 124,
   "metadata": {},
   "outputs": [],
   "source": [
    "import numpy as np\n",
    "import cv2\n",
    "from cv2 import dnn\n",
    "import os\n",
    "import PIL\n",
    "from PIL import Image, ImageEnhance"
   ]
  },
  {
   "cell_type": "code",
   "execution_count": 125,
   "metadata": {},
   "outputs": [],
   "source": [
    "#--------Model file paths--------#\n",
    "proto_file = 'Model\\colorization_deploy_v2.prototxt'\n",
    "model_file = 'Model\\colorization_release_v2.caffemodel'\n",
    "hull_pts = 'Model\\pts_in_hull.npy'"
   ]
  },
  {
   "cell_type": "code",
   "execution_count": 126,
   "metadata": {},
   "outputs": [],
   "source": [
    "\n",
    "#--------Save locations--------#\n",
    "fileName= '\\img1.jpg'\n",
    "saveName= '\\output.jpg'\n",
    "un_saturated_path = 'images\\gray'+fileName\n",
    "saturated_path = 'images\\saturated'+fileName\n",
    "org_img_path = 'images\\colored'+fileName\n",
    "img_path = 'images\\saturated'+fileName\n",
    "result_save_location = 'images\\output'\n",
    "#--------Reading the model params--------#\n",
    "net = dnn.readNetFromCaffe(proto_file,model_file)\n",
    "kernel = np.load(hull_pts)\n",
    "\n",
    "#--------Turn the image into gray--------#\n",
    "gray = Image.open(org_img_path).convert('L')\n",
    "gray.save(un_saturated_path)\n",
    "#-----Reading and preprocessing image--------#\n",
    "im = Image.open(r'images/gray/img1.jpg')\n",
    "im3 = ImageEnhance.Color(im)\n",
    "im3 = im3.enhance(2.5)\n",
    "im3 = im3.save(saturated_path,\"JPEG\")\n",
    "img = cv2.imread(img_path)\n",
    "\n",
    "colored_image = cv2.imread(org_img_path)\n",
    "\n",
    "original = cv2.imread(un_saturated_path)\n",
    "#original = cv2.imread(saturated_path)\n",
    "\n",
    "scaled = img.astype(\"float32\") / 255.0\n",
    "lab_img = cv2.cvtColor(scaled, cv2.COLOR_BGR2LAB)\n",
    "#-----------------------------------#---------------------#\n",
    " \n",
    "# add the cluster centers as 1x1 convolutions to the model\n",
    "class8 = net.getLayerId(\"class8_ab\")\n",
    "conv8 = net.getLayerId(\"conv8_313_rh\")\n",
    "pts = kernel.transpose().reshape(2, 313, 1, 1)\n",
    "net.getLayer(class8).blobs = [pts.astype(\"float32\")]\n",
    "net.getLayer(conv8).blobs = [np.full([1, 313], 2.606, dtype=\"float32\")]\n",
    "#-----------------------------------#---------------------#"
   ]
  },
  {
   "cell_type": "code",
   "execution_count": 127,
   "metadata": {},
   "outputs": [],
   "source": [
    "# add the cluster centers as 1x1 convolutions to the model\n",
    "class8 = net.getLayerId(\"class8_ab\")\n",
    "conv8 = net.getLayerId(\"conv8_313_rh\")\n",
    "pts = kernel.transpose().reshape(2, 313, 1, 1)\n",
    "net.getLayer(class8).blobs = [pts.astype(\"float32\")]\n",
    "net.getLayer(conv8).blobs = [np.full([1, 313], 2.606, dtype=\"float32\")]"
   ]
  },
  {
   "cell_type": "code",
   "execution_count": 128,
   "metadata": {},
   "outputs": [],
   "source": [
    "# we'll resize the image for the network\n",
    "resized = cv2.resize(lab_img, (224, 224))\n",
    "# split the L channel\n",
    "L = cv2.split(resized)[0]\n",
    "# mean subtraction\n",
    "L -= 50"
   ]
  },
  {
   "cell_type": "code",
   "execution_count": 129,
   "metadata": {},
   "outputs": [
    {
     "name": "stdout",
     "output_type": "stream",
     "text": [
      "R: 539267  G: 598991  B: 1024935\n"
     ]
    },
    {
     "data": {
      "text/plain": [
       "-1"
      ]
     },
     "execution_count": 129,
     "metadata": {},
     "output_type": "execute_result"
    }
   ],
   "source": [
    "# predicting the ab channels from the input L channel\n",
    " \n",
    "net.setInput(cv2.dnn.blobFromImage(L))\n",
    "ab_channel = net.forward()[0, :, :, :].transpose((1, 2, 0))\n",
    "# resize the predicted 'ab' volume to the same dimensions as our\n",
    "# input image\n",
    "ab_channel = cv2.resize(ab_channel, (img.shape[1], img.shape[0]))\n",
    " \n",
    " \n",
    "# Take the L channel from the image\n",
    "L = cv2.split(lab_img)[0]\n",
    "# Join the L channel with predicted ab channel\n",
    "colorized = np.concatenate((L[:, :, np.newaxis], ab_channel), axis=2)\n",
    " \n",
    "# Then convert the image from Lab to BGR\n",
    "colorized = cv2.cvtColor(colorized, cv2.COLOR_LAB2BGR)\n",
    "colorized = np.clip(colorized, 0, 1)\n",
    " \n",
    "# change the image to 0-255 range and convert it from float32 to int\n",
    "colorized = (255 * colorized).astype(\"uint8\")\n",
    "\n",
    "#Use this if the resolution of the images become too large\n",
    "colored_image_viewing = cv2.resize(colored_image,(960,640))\n",
    "colorized_viewing = cv2.resize(colorized,(960,640))\n",
    "result = cv2.hconcat([colored_image_viewing,colorized_viewing])\n",
    "\n",
    "\n",
    "#result = cv2.hconcat([colored_image,colorized])\n",
    "\n",
    "#Checks the difference of the rgb values, the closer to 0 the more similar it is\n",
    "difference = cv2.subtract(original, colorized)\n",
    "b, g, r = cv2.split(difference)\n",
    "difR = cv2.countNonZero(r)\n",
    "difG = cv2.countNonZero(g)\n",
    "difB = cv2.countNonZero(b)\n",
    "print(\"R:\",difR,\" G:\", difG,\" B:\", difB)\n",
    "\n",
    "\n",
    "\n",
    "cv2.imwrite(os.path.join(result_save_location, 'output.jpg'),colorized)\n",
    "\n",
    "cv2.imshow(\"Grayscale -> Colour\", result)\n",
    " \n",
    "cv2.waitKey(0)"
   ]
  }
 ],
 "metadata": {
  "kernelspec": {
   "display_name": "Python 3.10.0 64-bit",
   "language": "python",
   "name": "python3"
  },
  "language_info": {
   "codemirror_mode": {
    "name": "ipython",
    "version": 3
   },
   "file_extension": ".py",
   "mimetype": "text/x-python",
   "name": "python",
   "nbconvert_exporter": "python",
   "pygments_lexer": "ipython3",
   "version": "3.10.0"
  },
  "orig_nbformat": 4,
  "vscode": {
   "interpreter": {
    "hash": "e7ccb2a435b656723dafd2fb88eb02b6891256ab8b77d2cf3044cea9811453d0"
   }
  }
 },
 "nbformat": 4,
 "nbformat_minor": 2
}
